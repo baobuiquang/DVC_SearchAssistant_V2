{
 "cells": [
  {
   "cell_type": "code",
   "execution_count": null,
   "metadata": {},
   "outputs": [],
   "source": [
    "# from DVC_SearchAssist import DVC_SearchAssist\n",
    "\n",
    "# questions_for_test = [\n",
    "#     \"Khai sinh\",\n",
    "#     \"Hồ sơ và lệ phí khai sinh\",\n",
    "#     # \"Vợ tôi sắp sinh con tôi cần làm gì?\",\n",
    "#     # \"Giấy tờ cần thiết để mình khởi nghiệp.\",\n",
    "#     # \"Tôi muốn tố cáo hàng xóm trồng cần sa.\",\n",
    "#     # \"Làm sao để cưới vợ?\",\n",
    "#     # \"Tôi muốn thành lập công ty tnhh 2 thành viên\",\n",
    "#     # \"Tôi muốn thành lập công ty tnhh 3 thành viên\",\n",
    "#     # \"Mình muốn cưới chồng người nước ngoài\",\n",
    "#     # \"Cháu muốn phúc khảo bài thi thpt của cháu\",\n",
    "#     # \"hello bro\",\n",
    "#     # \"\\n\",\n",
    "# ]\n",
    "\n",
    "# for input_text in questions_for_test:\n",
    "#     dvcsa_res = DVC_SearchAssist(input_text)\n",
    "#     print(\"=\" * 100)\n",
    "#     for kk in list(dvcsa_res.keys()):\n",
    "#         if kk == \"suggestions\":\n",
    "#             print(f\"{kk}:\")\n",
    "#             for e in dvcsa_res[kk]:\n",
    "#                 print(e)\n",
    "#         else:\n",
    "#             print(f\"{kk}: {dvcsa_res[kk]}\\n\")\n",
    "#     print(\"-\" * 100)"
   ]
  }
 ],
 "metadata": {
  "kernelspec": {
   "display_name": "venv",
   "language": "python",
   "name": "python3"
  },
  "language_info": {
   "codemirror_mode": {
    "name": "ipython",
    "version": 3
   },
   "file_extension": ".py",
   "mimetype": "text/x-python",
   "name": "python",
   "nbconvert_exporter": "python",
   "pygments_lexer": "ipython3",
   "version": "3.11.3"
  }
 },
 "nbformat": 4,
 "nbformat_minor": 2
}
