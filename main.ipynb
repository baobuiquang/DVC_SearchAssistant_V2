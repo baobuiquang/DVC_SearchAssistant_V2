{
 "cells": [
  {
   "cell_type": "code",
   "execution_count": null,
   "metadata": {},
   "outputs": [],
   "source": [
    "import csv\n",
    "\n",
    "def raw2cache():\n",
    "    with open(\"url/raw\", \"r\", encoding=\"utf-8\") as f:\n",
    "        data_raw = f.readlines()\n",
    "        data_raw = [e.strip() for e in data_raw]\n",
    "        data_dict = []\n",
    "        for stt in range(1, 9999):\n",
    "            idxs = [i for i, x in enumerate(data_raw) if x == str(stt)]\n",
    "            if len(idxs) == 0:\n",
    "                break\n",
    "            idx = idxs[0]\n",
    "            data_dict.append({\n",
    "                \"code\": data_raw[idx+1],\n",
    "                \"name\": data_raw[idx+2],\n",
    "                \"field\": data_raw[idx+3],\n",
    "                \"org\": data_raw[idx+4],\n",
    "                \"level\": data_raw[idx+5],\n",
    "            })\n",
    "    with open(\"url/cache\", mode=\"w\", newline=\"\", encoding=\"utf-8\") as f:\n",
    "        fieldnames = data_dict[0].keys()\n",
    "        writer = csv.DictWriter(f, fieldnames=fieldnames)\n",
    "        writer.writeheader()\n",
    "        writer.writerows(data_dict)\n",
    "\n",
    "raw2cache()"
   ]
  }
 ],
 "metadata": {
  "kernelspec": {
   "display_name": "venv",
   "language": "python",
   "name": "python3"
  },
  "language_info": {
   "codemirror_mode": {
    "name": "ipython",
    "version": 3
   },
   "file_extension": ".py",
   "mimetype": "text/x-python",
   "name": "python",
   "nbconvert_exporter": "python",
   "pygments_lexer": "ipython3",
   "version": "3.10.10"
  }
 },
 "nbformat": 4,
 "nbformat_minor": 2
}
