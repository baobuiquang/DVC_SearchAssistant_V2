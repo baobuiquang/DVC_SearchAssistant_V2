{
 "cells": [
  {
   "cell_type": "code",
   "execution_count": null,
   "metadata": {},
   "outputs": [],
   "source": [
    "from pkg.HYSE.HYSE import Object_HYSE\n",
    "import csv\n",
    "import time"
   ]
  },
  {
   "cell_type": "code",
   "execution_count": null,
   "metadata": {},
   "outputs": [],
   "source": [
    "with open(\"url/cache_2\", mode=\"r\", newline=\"\", encoding=\"utf-8\") as f:\n",
    "    thutucs = [e for e in csv.DictReader(f)]\n",
    "    thutuc_keys = list(thutucs[0].keys())"
   ]
  },
  {
   "cell_type": "code",
   "execution_count": null,
   "metadata": {},
   "outputs": [],
   "source": [
    "docs = [f\"{e['name']}\" for e in thutucs]\n",
    "hyse_engine = Object_HYSE()\n",
    "for i in range(0, len(docs), 50):\n",
    "    print(i)\n",
    "    hyse_engine.update(docs[:i])\n",
    "    time.sleep(3)\n",
    "hyse_engine.update(docs)"
   ]
  },
  {
   "cell_type": "code",
   "execution_count": null,
   "metadata": {},
   "outputs": [],
   "source": [
    "queries = [\n",
    "    \"mở công ty tnhh 3 thành viên\"\n",
    "    # \"khởi nghiệp\",\n",
    "    # \"mua đất\",\n",
    "    # \"xây nhà\",\n",
    "    # \"kết hôn\",\n",
    "    # \"phúc khảo\",\n",
    "]\n",
    "\n",
    "hyse_engine.search(queries)"
   ]
  }
 ],
 "metadata": {
  "kernelspec": {
   "display_name": "venv",
   "language": "python",
   "name": "python3"
  },
  "language_info": {
   "codemirror_mode": {
    "name": "ipython",
    "version": 3
   },
   "file_extension": ".py",
   "mimetype": "text/x-python",
   "name": "python",
   "nbconvert_exporter": "python",
   "pygments_lexer": "ipython3",
   "version": "3.10.10"
  }
 },
 "nbformat": 4,
 "nbformat_minor": 2
}
