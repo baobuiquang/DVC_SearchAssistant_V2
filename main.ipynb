{
 "cells": [
  {
   "cell_type": "code",
   "execution_count": 11,
   "metadata": {},
   "outputs": [],
   "source": [
    "import csv"
   ]
  },
  {
   "cell_type": "code",
   "execution_count": 12,
   "metadata": {},
   "outputs": [],
   "source": [
    "with open(\"url/cache_2\", mode=\"r\", newline=\"\", encoding=\"utf-8\") as f:\n",
    "    thutucs = [e for e in csv.DictReader(f)]\n",
    "    thutuc_fields = list(thutucs[0].keys())"
   ]
  },
  {
   "cell_type": "code",
   "execution_count": 14,
   "metadata": {},
   "outputs": [
    {
     "name": "stdout",
     "output_type": "stream",
     "text": [
      "['code', 'name', 'field', 'org', 'level', 'link', 'related', 'Trình tự thực hiện', 'Cách thức thực hiện', 'Thành phần hồ sơ', 'Thời gian giải quyết', 'Đối tượng thực hiện', 'Cơ quan thực hiện', 'Kết quả', 'Phí, lệ phí', 'Tên mẫu đơn, tờ khai', 'Yêu cầu, điều kiện', 'Căn cứ pháp lý']\n"
     ]
    }
   ],
   "source": [
    "print(thutuc_fields)"
   ]
  },
  {
   "cell_type": "code",
   "execution_count": null,
   "metadata": {},
   "outputs": [],
   "source": []
  }
 ],
 "metadata": {
  "kernelspec": {
   "display_name": "venv",
   "language": "python",
   "name": "python3"
  },
  "language_info": {
   "codemirror_mode": {
    "name": "ipython",
    "version": 3
   },
   "file_extension": ".py",
   "mimetype": "text/x-python",
   "name": "python",
   "nbconvert_exporter": "python",
   "pygments_lexer": "ipython3",
   "version": "3.10.10"
  }
 },
 "nbformat": 4,
 "nbformat_minor": 2
}
