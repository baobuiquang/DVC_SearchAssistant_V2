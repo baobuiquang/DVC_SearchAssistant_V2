{
 "cells": [
  {
   "cell_type": "code",
   "execution_count": 5,
   "metadata": {},
   "outputs": [],
   "source": [
    "import time\n",
    "import csv\n",
    "import re"
   ]
  },
  {
   "cell_type": "code",
   "execution_count": 6,
   "metadata": {},
   "outputs": [],
   "source": [
    "def raw2cache():\n",
    "    with open(\"url/raw\", \"r\", encoding=\"utf-8\") as f:\n",
    "        data_raw = f.readlines()\n",
    "        data_raw = [e.strip() for e in data_raw]\n",
    "        data_dict = []\n",
    "        for stt in range(1, 9999):\n",
    "            idxs = [i for i, x in enumerate(data_raw) if x == str(stt)]\n",
    "            if len(idxs) == 0:\n",
    "                break\n",
    "            idx = idxs[0]\n",
    "            data_dict.append({\n",
    "                \"code\": data_raw[idx+1],\n",
    "                \"name\": data_raw[idx+2],\n",
    "                \"field\": data_raw[idx+3],\n",
    "                \"org\": data_raw[idx+4],\n",
    "                \"level\": data_raw[idx+5],\n",
    "            })\n",
    "    with open(\"url/cache\", mode=\"w\", newline=\"\", encoding=\"utf-8\") as f:\n",
    "        fieldnames = data_dict[0].keys()\n",
    "        writer = csv.DictWriter(f, fieldnames=fieldnames)\n",
    "        writer.writeheader()\n",
    "        writer.writerows(data_dict)\n",
    "raw2cache()"
   ]
  },
  {
   "cell_type": "code",
   "execution_count": 7,
   "metadata": {},
   "outputs": [],
   "source": [
    "from webdriver_manager.chrome import ChromeDriverManager\n",
    "from selenium.webdriver.chrome.service import Service as Selenium_Service\n",
    "from selenium.webdriver.chrome.options import Options as Selenium_Options\n",
    "from selenium.webdriver import Chrome as Selenium_Chrome\n",
    "chrome_options = Selenium_Options()\n",
    "chrome_options.add_argument(\"--headless\")\n",
    "chrome_options.add_argument(\"--no-sandbox\")\n",
    "chrome_options.add_argument(\"--disable-dev-shm-usage\")\n",
    "selenium_service = Selenium_Service(ChromeDriverManager().install())\n",
    "selenium_driver = Selenium_Chrome(service=selenium_service, options=chrome_options) # Start WebDriver\n",
    "# sele_driver.quit() # Close the browser\n",
    "\n",
    "def scrape_html_content(url, waiting_time=2):\n",
    "    selenium_driver.get(url)\n",
    "    time.sleep(waiting_time)\n",
    "    html_content = selenium_driver.page_source\n",
    "    return html_content\n",
    "\n",
    "url_1 = \"https://dichvucong.lamdong.gov.vn/vi/procedure/search?keyword=\" + \"2.001583.000.00.00.H36\"\n",
    "html_1 = scrape_html_content(url_1)\n",
    "match_1 = re.search(r'href=\"(/vi/procedure/detail/[a-zA-Z0-9]+)\"', html_1)\n",
    "if match_1:\n",
    "    url_2 = \"https://dichvucong.lamdong.gov.vn\" + match_1.group(1)"
   ]
  },
  {
   "cell_type": "code",
   "execution_count": 8,
   "metadata": {},
   "outputs": [
    {
     "name": "stdout",
     "output_type": "stream",
     "text": [
      "https://dichvucong.lamdong.gov.vn/vi/procedure/detail/6721a12b07a4223b3a4a215c\n"
     ]
    }
   ],
   "source": [
    "print(url_2)"
   ]
  }
 ],
 "metadata": {
  "kernelspec": {
   "display_name": "venv",
   "language": "python",
   "name": "python3"
  },
  "language_info": {
   "codemirror_mode": {
    "name": "ipython",
    "version": 3
   },
   "file_extension": ".py",
   "mimetype": "text/x-python",
   "name": "python",
   "nbconvert_exporter": "python",
   "pygments_lexer": "ipython3",
   "version": "3.10.10"
  }
 },
 "nbformat": 4,
 "nbformat_minor": 2
}
