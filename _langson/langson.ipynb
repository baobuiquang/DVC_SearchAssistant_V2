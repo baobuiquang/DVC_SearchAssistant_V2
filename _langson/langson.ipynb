{
 "cells": [
  {
   "cell_type": "code",
   "execution_count": 1,
   "id": "c0196e66",
   "metadata": {},
   "outputs": [],
   "source": [
    "# !pip install opencv-python-headless\n",
    "# import cv2\n",
    "# detector = cv2.QRCodeDetector()\n",
    "# with open(\"DVC_TTHC_LangSon_links_1842.txt\", 'a', encoding='utf-8') as f:\n",
    "#     for i in range(1842):\n",
    "#         img = cv2.imread(f'qr/xl_media_image{i+1}.png')\n",
    "#         text, _, _ = detector.detectAndDecode(img)\n",
    "#         print(text)\n",
    "#         f.write(f\"{text}\\n\")"
   ]
  },
  {
   "cell_type": "code",
   "execution_count": 2,
   "id": "8d1711f9",
   "metadata": {},
   "outputs": [],
   "source": [
    "# import requests\n",
    "# import time\n",
    "# import os\n",
    "# os.makedirs(\"html\", exist_ok=True)\n",
    "\n",
    "# with open('DVC_TTHC_LangSon_links_1842.txt', 'r', encoding='utf-8') as f:\n",
    "#     tthc_links = f.readlines()\n",
    "#     tthc_links = [e.strip() for e in tthc_links]\n",
    "#     tthc_links = [e for e in tthc_links if e != \"\"]\n",
    "\n",
    "# for url in tthc_links:\n",
    "#     tthc_id = url.replace(\"http://dichvucong.langson.gov.vn/dichvucong/bothutuc/chiTietThuTuc?maThuTuc=\", \"\")\n",
    "#     try:\n",
    "#         response = requests.get(url, timeout=10)\n",
    "#         response.raise_for_status()\n",
    "#         with open(f\"html/{tthc_id}.html\", \"w\", encoding=\"utf-8\") as f:\n",
    "#             f.write(response.text)\n",
    "#         # time.sleep(1)\n",
    "#     except requests.exceptions.Timeout:\n",
    "#         print(\"⚠️ The request timed out.\")\n",
    "#     except requests.exceptions.RequestException as e:\n",
    "#         print(f\"⚠️ An error occurred: {e}\")"
   ]
  }
 ],
 "metadata": {
  "kernelspec": {
   "display_name": "_venv",
   "language": "python",
   "name": "python3"
  },
  "language_info": {
   "codemirror_mode": {
    "name": "ipython",
    "version": 3
   },
   "file_extension": ".py",
   "mimetype": "text/x-python",
   "name": "python",
   "nbconvert_exporter": "python",
   "pygments_lexer": "ipython3",
   "version": "3.11.3"
  }
 },
 "nbformat": 4,
 "nbformat_minor": 5
}
